{
  "nbformat": 4,
  "nbformat_minor": 0,
  "metadata": {
    "colab": {
      "name": "pkw_test.ipynb",
      "version": "0.3.2",
      "provenance": [],
      "collapsed_sections": [],
      "include_colab_link": true
    },
    "kernelspec": {
      "name": "python3",
      "display_name": "Python 3"
    },
    "accelerator": "TPU"
  },
  "cells": [
    {
      "cell_type": "markdown",
      "metadata": {
        "id": "view-in-github",
        "colab_type": "text"
      },
      "source": [
        "<a href=\"https://colab.research.google.com/github/juansolana/edinquake/blob/master/pkw_test.ipynb\" target=\"_parent\"><img src=\"https://colab.research.google.com/assets/colab-badge.svg\" alt=\"Open In Colab\"/></a>"
      ]
    },
    {
      "metadata": {
        "id": "puXf1VUM7TTs",
        "colab_type": "code",
        "outputId": "1b6b8340-2f57-4e19-e451-1d3add2351e5",
        "colab": {
          "base_uri": "https://localhost:8080/",
          "height": 255
        }
      },
      "cell_type": "code",
      "source": [
        "!pip install -U seaborn"
      ],
      "execution_count": 0,
      "outputs": [
        {
          "output_type": "stream",
          "text": [
            "Requirement already up-to-date: seaborn in /usr/local/lib/python3.6/dist-packages (0.9.0)\n",
            "Requirement already satisfied, skipping upgrade: pandas>=0.15.2 in /usr/local/lib/python3.6/dist-packages (from seaborn) (0.22.0)\n",
            "Requirement already satisfied, skipping upgrade: matplotlib>=1.4.3 in /usr/local/lib/python3.6/dist-packages (from seaborn) (3.0.2)\n",
            "Requirement already satisfied, skipping upgrade: scipy>=0.14.0 in /usr/local/lib/python3.6/dist-packages (from seaborn) (1.1.0)\n",
            "Requirement already satisfied, skipping upgrade: numpy>=1.9.3 in /usr/local/lib/python3.6/dist-packages (from seaborn) (1.14.6)\n",
            "Requirement already satisfied, skipping upgrade: python-dateutil>=2 in /usr/local/lib/python3.6/dist-packages (from pandas>=0.15.2->seaborn) (2.5.3)\n",
            "Requirement already satisfied, skipping upgrade: pytz>=2011k in /usr/local/lib/python3.6/dist-packages (from pandas>=0.15.2->seaborn) (2018.9)\n",
            "Requirement already satisfied, skipping upgrade: cycler>=0.10 in /usr/local/lib/python3.6/dist-packages (from matplotlib>=1.4.3->seaborn) (0.10.0)\n",
            "Requirement already satisfied, skipping upgrade: kiwisolver>=1.0.1 in /usr/local/lib/python3.6/dist-packages (from matplotlib>=1.4.3->seaborn) (1.0.1)\n",
            "Requirement already satisfied, skipping upgrade: pyparsing!=2.0.4,!=2.1.2,!=2.1.6,>=2.0.1 in /usr/local/lib/python3.6/dist-packages (from matplotlib>=1.4.3->seaborn) (2.3.1)\n",
            "Requirement already satisfied, skipping upgrade: six>=1.5 in /usr/local/lib/python3.6/dist-packages (from python-dateutil>=2->pandas>=0.15.2->seaborn) (1.11.0)\n",
            "Requirement already satisfied, skipping upgrade: setuptools in /usr/local/lib/python3.6/dist-packages (from kiwisolver>=1.0.1->matplotlib>=1.4.3->seaborn) (40.7.1)\n"
          ],
          "name": "stdout"
        }
      ]
    },
    {
      "metadata": {
        "id": "spb0qhCf7u9B",
        "colab_type": "code",
        "outputId": "4527adf7-2200-40e4-d800-01d523dcf621",
        "colab": {
          "resources": {
            "http://localhost:8080/nbextensions/google.colab/files.js": {
              "data": "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",
              "ok": true,
              "headers": [
                [
                  "content-type",
                  "application/javascript"
                ]
              ],
              "status": 200,
              "status_text": "OK"
            }
          },
          "base_uri": "https://localhost:8080/",
          "height": 646
        }
      },
      "cell_type": "code",
      "source": [
        "from google.colab import files\n",
        "\n",
        "uploaded = files.upload()\n",
        "\n",
        "for fn in uploaded.keys():\n",
        "  print('User uploaded file \"{name}\" with length {length} bytes'.format(\n",
        "      name=fn, length=len(uploaded[fn])))"
      ],
      "execution_count": 0,
      "outputs": [
        {
          "output_type": "display_data",
          "data": {
            "text/html": [
              "\n",
              "     <input type=\"file\" id=\"files-2ef48cfc-c97f-4faa-9877-ef2a8dffa8b5\" name=\"files[]\" multiple disabled />\n",
              "     <output id=\"result-2ef48cfc-c97f-4faa-9877-ef2a8dffa8b5\">\n",
              "      Upload widget is only available when the cell has been executed in the\n",
              "      current browser session. Please rerun this cell to enable.\n",
              "      </output>\n",
              "      <script src=\"/nbextensions/google.colab/files.js\"></script> "
            ],
            "text/plain": [
              "<IPython.core.display.HTML object>"
            ]
          },
          "metadata": {
            "tags": []
          }
        },
        {
          "output_type": "error",
          "ename": "KeyboardInterrupt",
          "evalue": "ignored",
          "traceback": [
            "\u001b[0;31m---------------------------------------------------------------------------\u001b[0m",
            "\u001b[0;31mKeyboardInterrupt\u001b[0m                         Traceback (most recent call last)",
            "\u001b[0;32m<ipython-input-2-292f82be1b7a>\u001b[0m in \u001b[0;36m<module>\u001b[0;34m()\u001b[0m\n\u001b[1;32m      1\u001b[0m \u001b[0;32mfrom\u001b[0m \u001b[0mgoogle\u001b[0m\u001b[0;34m.\u001b[0m\u001b[0mcolab\u001b[0m \u001b[0;32mimport\u001b[0m \u001b[0mfiles\u001b[0m\u001b[0;34m\u001b[0m\u001b[0;34m\u001b[0m\u001b[0m\n\u001b[1;32m      2\u001b[0m \u001b[0;34m\u001b[0m\u001b[0m\n\u001b[0;32m----> 3\u001b[0;31m \u001b[0muploaded\u001b[0m \u001b[0;34m=\u001b[0m \u001b[0mfiles\u001b[0m\u001b[0;34m.\u001b[0m\u001b[0mupload\u001b[0m\u001b[0;34m(\u001b[0m\u001b[0;34m)\u001b[0m\u001b[0;34m\u001b[0m\u001b[0;34m\u001b[0m\u001b[0m\n\u001b[0m\u001b[1;32m      4\u001b[0m \u001b[0;34m\u001b[0m\u001b[0m\n\u001b[1;32m      5\u001b[0m \u001b[0;32mfor\u001b[0m \u001b[0mfn\u001b[0m \u001b[0;32min\u001b[0m \u001b[0muploaded\u001b[0m\u001b[0;34m.\u001b[0m\u001b[0mkeys\u001b[0m\u001b[0;34m(\u001b[0m\u001b[0;34m)\u001b[0m\u001b[0;34m:\u001b[0m\u001b[0;34m\u001b[0m\u001b[0;34m\u001b[0m\u001b[0m\n",
            "\u001b[0;32m/usr/local/lib/python3.6/dist-packages/google/colab/files.py\u001b[0m in \u001b[0;36mupload\u001b[0;34m()\u001b[0m\n\u001b[1;32m     62\u001b[0m   result = _output.eval_js(\n\u001b[1;32m     63\u001b[0m       'google.colab._files._uploadFiles(\"{input_id}\", \"{output_id}\")'.format(\n\u001b[0;32m---> 64\u001b[0;31m           input_id=input_id, output_id=output_id))\n\u001b[0m\u001b[1;32m     65\u001b[0m   \u001b[0mfiles\u001b[0m \u001b[0;34m=\u001b[0m \u001b[0m_collections\u001b[0m\u001b[0;34m.\u001b[0m\u001b[0mdefaultdict\u001b[0m\u001b[0;34m(\u001b[0m\u001b[0m_six\u001b[0m\u001b[0;34m.\u001b[0m\u001b[0mbinary_type\u001b[0m\u001b[0;34m)\u001b[0m\u001b[0;34m\u001b[0m\u001b[0;34m\u001b[0m\u001b[0m\n\u001b[1;32m     66\u001b[0m   \u001b[0;31m# Mapping from original filename to filename as saved locally.\u001b[0m\u001b[0;34m\u001b[0m\u001b[0;34m\u001b[0m\u001b[0;34m\u001b[0m\u001b[0m\n",
            "\u001b[0;32m/usr/local/lib/python3.6/dist-packages/google/colab/output/_js.py\u001b[0m in \u001b[0;36meval_js\u001b[0;34m(script, ignore_result)\u001b[0m\n\u001b[1;32m     37\u001b[0m   \u001b[0;32mif\u001b[0m \u001b[0mignore_result\u001b[0m\u001b[0;34m:\u001b[0m\u001b[0;34m\u001b[0m\u001b[0;34m\u001b[0m\u001b[0m\n\u001b[1;32m     38\u001b[0m     \u001b[0;32mreturn\u001b[0m\u001b[0;34m\u001b[0m\u001b[0;34m\u001b[0m\u001b[0m\n\u001b[0;32m---> 39\u001b[0;31m   \u001b[0;32mreturn\u001b[0m \u001b[0m_message\u001b[0m\u001b[0;34m.\u001b[0m\u001b[0mread_reply_from_input\u001b[0m\u001b[0;34m(\u001b[0m\u001b[0mrequest_id\u001b[0m\u001b[0;34m)\u001b[0m\u001b[0;34m\u001b[0m\u001b[0;34m\u001b[0m\u001b[0m\n\u001b[0m\u001b[1;32m     40\u001b[0m \u001b[0;34m\u001b[0m\u001b[0m\n\u001b[1;32m     41\u001b[0m \u001b[0;34m\u001b[0m\u001b[0m\n",
            "\u001b[0;32m/usr/local/lib/python3.6/dist-packages/google/colab/_message.py\u001b[0m in \u001b[0;36mread_reply_from_input\u001b[0;34m(message_id, timeout_sec)\u001b[0m\n\u001b[1;32m     99\u001b[0m     \u001b[0mreply\u001b[0m \u001b[0;34m=\u001b[0m \u001b[0m_read_next_input_message\u001b[0m\u001b[0;34m(\u001b[0m\u001b[0;34m)\u001b[0m\u001b[0;34m\u001b[0m\u001b[0;34m\u001b[0m\u001b[0m\n\u001b[1;32m    100\u001b[0m     \u001b[0;32mif\u001b[0m \u001b[0mreply\u001b[0m \u001b[0;34m==\u001b[0m \u001b[0m_NOT_READY\u001b[0m \u001b[0;32mor\u001b[0m \u001b[0;32mnot\u001b[0m \u001b[0misinstance\u001b[0m\u001b[0;34m(\u001b[0m\u001b[0mreply\u001b[0m\u001b[0;34m,\u001b[0m \u001b[0mdict\u001b[0m\u001b[0;34m)\u001b[0m\u001b[0;34m:\u001b[0m\u001b[0;34m\u001b[0m\u001b[0;34m\u001b[0m\u001b[0m\n\u001b[0;32m--> 101\u001b[0;31m       \u001b[0mtime\u001b[0m\u001b[0;34m.\u001b[0m\u001b[0msleep\u001b[0m\u001b[0;34m(\u001b[0m\u001b[0;36m0.025\u001b[0m\u001b[0;34m)\u001b[0m\u001b[0;34m\u001b[0m\u001b[0;34m\u001b[0m\u001b[0m\n\u001b[0m\u001b[1;32m    102\u001b[0m       \u001b[0;32mcontinue\u001b[0m\u001b[0;34m\u001b[0m\u001b[0;34m\u001b[0m\u001b[0m\n\u001b[1;32m    103\u001b[0m     if (reply.get('type') == 'colab_reply' and\n",
            "\u001b[0;31mKeyboardInterrupt\u001b[0m: "
          ]
        }
      ]
    },
    {
      "metadata": {
        "id": "0EI_nzVQC8m3",
        "colab_type": "code",
        "colab": {}
      },
      "cell_type": "code",
      "source": [
        "import matplotlib.pyplot as plt\n",
        "import numpy as np\n",
        "import seaborn as sns\n",
        "sns.set()\n",
        "import pandas as pd"
      ],
      "execution_count": 0,
      "outputs": []
    },
    {
      "metadata": {
        "id": "aNnuxue3Dfav",
        "colab_type": "code",
        "colab": {}
      },
      "cell_type": "code",
      "source": [
        "def plot_common(array, start=0, end=None, step=1, xlabel=\"\", ylabel=\"\", title=\"\"):\n",
        "  if array is None:\n",
        "    print(\"array should not be none\")\n",
        "    return\n",
        "  if end is None:\n",
        "    end = array.shape[0]\n",
        "  \n",
        "  fig = plt.figure(figsize=(16,7))\n",
        "  ax = fig.add_subplot(111)\n",
        "  ax.plot(np.arange(start, end, step), array[start:end:step])\n",
        "  ax.set_xlabel(xlabel)\n",
        "  ax.set_ylabel(ylabel)\n",
        "  \n",
        "  \n",
        "def sns_plot(array, start=0, end=None, step=1, xlabel=\"index\", ylabel=\"\", title=\"\"):\n",
        "  if array is None:\n",
        "    print(\"array should not be none\")\n",
        "    return\n",
        "  if end is None:\n",
        "    end = len(array)\n",
        "\n",
        "  fig, ax1 = plt.subplots(figsize=(16, 6))\n",
        "  fig.suptitle(title, fontsize=14)\n",
        "\n",
        "  ax1.set_xlabel(xlabel)\n",
        "  ax1.set_ylabel(ylabel)\n",
        "  p1 = sns.lineplot(data=array)\n",
        "  \n",
        "def sns_plot_data_frame_column(data_frame, column_name, start=0, end=None, step=1, xlabel=\"index\", ylabel=\"\", title=\"\"):\n",
        "  arr = data_frame.iloc[start:end:step].acoustic_data.values\n",
        "  sns_plot(arr, start, end, step, xlabel, ylabel, title)\n",
        "  \n",
        "def sns_plot_data_frame(data_frame, start=0, end=None, step=1, xlabel=\"index\", ylabel1=\"\", ylabel2\"\"):\n",
        "  "
      ],
      "execution_count": 0,
      "outputs": []
    },
    {
      "metadata": {
        "id": "scN_aXZ9wT8z",
        "colab_type": "code",
        "outputId": "ebd99842-4da0-4b4b-f258-70de8355761c",
        "colab": {
          "base_uri": "https://localhost:8080/",
          "height": 455
        }
      },
      "cell_type": "code",
      "source": [
        "tmp_csv = pd.read_csv('tmp.csv', dtype={'acoustic_data': np.int16, 'time_to_failure': np.float64})\n",
        "print(tmp_csv.shape)\n",
        "sns_plot_data_frame_column(tmp_csv, 'acoustic_data', step=2, title='test', ylabel='adata')\n",
        "#arr = np.asarray([1,2,13,42,54,6,7,8,11,43,65,1,3,7,4,5,2,76,12,87,32])\n",
        "#plot_common(arr, start=2, end=15, step=2, xlabel='trytry', ylabel='yyy')"
      ],
      "execution_count": 0,
      "outputs": [
        {
          "output_type": "stream",
          "text": [
            "(999, 2)\n"
          ],
          "name": "stdout"
        },
        {
          "output_type": "display_data",
          "data": {
            "image/png": "[encoded data removed]",
            "text/plain": [
              "<Figure size 1152x432 with 1 Axes>"
            ]
          },
          "metadata": {
            "tags": []
          }
        }
      ]
    },
    {
      "metadata": {
        "id": "kFA7z4oCmnd7",
        "colab_type": "code",
        "outputId": "ac766de1-395e-407a-fe71-02bd2b3679e3",
        "colab": {
          "base_uri": "https://localhost:8080/",
          "height": 271
        }
      },
      "cell_type": "code",
      "source": [
        "import datetime\n",
        "import json\n",
        "import os\n",
        "import pprint\n",
        "import random\n",
        "import string\n",
        "import sys\n",
        "import tensorflow as tf\n",
        "import numpy as np\n",
        "\n",
        "assert 'COLAB_TPU_ADDR' in os.environ, 'ERROR: Not connected to a TPU runtime; please see the first cell in this notebook for instructions!'\n",
        "TPU_ADDRESS = 'grpc://' + os.environ['COLAB_TPU_ADDR']\n",
        "print('TPU address is', TPU_ADDRESS)\n",
        "\n",
        "from google.colab import auth\n",
        "auth.authenticate_user()\n",
        "with tf.Session(TPU_ADDRESS) as session:\n",
        "  print('TPU devices:')\n",
        "  pprint.pprint(session.list_devices())\n",
        "\n",
        "  # Upload credentials to TPU.\n",
        "  with open('/content/adc.json', 'r') as f:\n",
        "    auth_info = json.load(f)\n",
        "  tf.contrib.cloud.configure_gcs(session, credentials=auth_info)\n",
        "  # Now credentials are set for all future sessions on this TPU."
      ],
      "execution_count": 0,
      "outputs": [
        {
          "output_type": "stream",
          "text": [
            "TPU address is grpc://10.103.26.170:8470\n",
            "TPU devices:\n",
            "[_DeviceAttributes(/job:tpu_worker/replica:0/task:0/device:CPU:0, CPU, -1, 11592956586587472035),\n",
            " _DeviceAttributes(/job:tpu_worker/replica:0/task:0/device:XLA_CPU:0, XLA_CPU, 17179869184, 3209528423454898235),\n",
            " _DeviceAttributes(/job:tpu_worker/replica:0/task:0/device:XLA_GPU:0, XLA_GPU, 17179869184, 11532780780740645179),\n",
            " _DeviceAttributes(/job:tpu_worker/replica:0/task:0/device:TPU:0, TPU, 17179869184, 2819465849502304156),\n",
            " _DeviceAttributes(/job:tpu_worker/replica:0/task:0/device:TPU:1, TPU, 17179869184, 7094915971368290947),\n",
            " _DeviceAttributes(/job:tpu_worker/replica:0/task:0/device:TPU:2, TPU, 17179869184, 13153420586784176307),\n",
            " _DeviceAttributes(/job:tpu_worker/replica:0/task:0/device:TPU:3, TPU, 17179869184, 9486716581397585706),\n",
            " _DeviceAttributes(/job:tpu_worker/replica:0/task:0/device:TPU:4, TPU, 17179869184, 15575959019059172685),\n",
            " _DeviceAttributes(/job:tpu_worker/replica:0/task:0/device:TPU:5, TPU, 17179869184, 16467689911302288980),\n",
            " _DeviceAttributes(/job:tpu_worker/replica:0/task:0/device:TPU:6, TPU, 17179869184, 9078304712418609722),\n",
            " _DeviceAttributes(/job:tpu_worker/replica:0/task:0/device:TPU:7, TPU, 17179869184, 12867449624990330925),\n",
            " _DeviceAttributes(/job:tpu_worker/replica:0/task:0/device:TPU_SYSTEM:0, TPU_SYSTEM, 17179869184, 1735618490604686672)]\n"
          ],
          "name": "stdout"
        }
      ]
    },
    {
      "metadata": {
        "id": "etkfEwN_m15d",
        "colab_type": "code",
        "outputId": "c4d9114a-9dd3-4652-afc1-812299a52896",
        "colab": {
          "base_uri": "https://localhost:8080/",
          "height": 144
        }
      },
      "cell_type": "code",
      "source": [
        "MODEL = 'BASIC_LSTM' #@param {type:\"string\"}\n",
        "BUCKET = 'edinquake_pkw' #@param {type:\"string\"}\n",
        "assert BUCKET, 'Must specify an existing GCS bucket name'\n",
        "\n",
        "DATA_DIR = 'gs://{}/data'.format(BUCKET)\n",
        "print('***** Data directory: {} *****'.format(DATA_DIR))\n",
        "!gsutil ls $DATA_DIR\n",
        "\n",
        "\n",
        "#OUTPUT_DIR = 'gs://{}/models/{}/'.format(BUCKET, MODEL)\n",
        "#tf.gfile.MakeDirs(OUTPUT_DIR)\n",
        "#print('***** Model output directory: {} *****'.format(OUTPUT_DIR))"
      ],
      "execution_count": 0,
      "outputs": [
        {
          "output_type": "stream",
          "text": [
            "***** Data directory: gs://edinquake_pkw/data *****\n",
            "gs://edinquake_pkw/data/\n",
            "gs://edinquake_pkw/data/quakes.txt\n",
            "gs://edinquake_pkw/data/quakes_128\n",
            "gs://edinquake_pkw/data/quakes_128_new\n",
            "gs://edinquake_pkw/data/train.csv\n",
            "gs://edinquake_pkw/data/test/\n"
          ],
          "name": "stdout"
        }
      ]
    },
    {
      "metadata": {
        "id": "YAAN9lINeupD",
        "colab_type": "code",
        "colab": {}
      },
      "cell_type": "code",
      "source": [
        "def split_convert(s):\n",
        "  splitted = s.split(',')\n",
        "  signal = float(splitted[0])\n",
        "  time = float(splitted[1])\n",
        "  return [signal, time]\n",
        "\n",
        "def to_int_str(n):\n",
        "  return str(int(n))\n",
        "\n",
        "def to_str(n):\n",
        "  return str(n)\n",
        "\n",
        "def list_to_str(working_list, input_size, padding=True):\n",
        "  write_str = \"\"\n",
        "  working_list_len = len(working_list)\n",
        "  working_list = list(map(split_convert, working_list))\n",
        "  \n",
        "  if padding is True:\n",
        "    pad_size = (input_size - (working_list_len % input_size)) % input_size\n",
        "    edge_ele = working_list[-1]\n",
        "    working_list += [edge_ele] * pad_size\n",
        "    working_list_len = len(working_list)\n",
        "  \n",
        "  working_list = np.asarray(working_list)\n",
        "  chunk_num = working_list_len // input_size\n",
        "  chunked_arr = np.split(working_list, chunk_num)\n",
        "  chunked_arr = np.asarray(chunked_arr)\n",
        "  transposed = np.transpose(chunked_arr, (0,2,1))\n",
        "  working_list = (transposed).tolist()\n",
        "  for row in working_list:\n",
        "    signals, times = row\n",
        "    signals = list(map(to_int_str, signals))\n",
        "    times = list(map(to_str, times))\n",
        "    sig_str = \",\".join(signals)\n",
        "    time_str = \",\".join(times)\n",
        "    row_str = sig_str + \"\\t\" + time_str + \"\\n\"\n",
        "    unrow = row_str.split(',')\n",
        "    write_str += row_str\n",
        "    #print('write_str split: {}'.format(len(write_str.split(','))))\n",
        "  return write_str\n",
        "    \n",
        "import time\n",
        "def read_convert_raw_train_csv(reader, input_size, read_chunk_size, writer):\n",
        "  remaining_list = []\n",
        "  file_size = reader.size()\n",
        "  reader.readline() # first line is title\n",
        "  while (reader.tell() < file_size):\n",
        "    print('reader pos:{}'.format(reader.tell()))\n",
        "    start_t = time.time()\n",
        "    s = reader.read(read_chunk_size)\n",
        "    end_t = time.time()\n",
        "    print('time to read {}s'.format(end_t - start_t))\n",
        "\n",
        "    remain = \"\"\n",
        "    curr_char = reader.read(1)\n",
        "    while (curr_char != '\\n'):\n",
        "      remain += curr_char\n",
        "      curr_char = reader.read(1)\n",
        "      if reader.tell() == file_size:\n",
        "        break\n",
        "\n",
        "    s += remain\n",
        "    str_list = s.split('\\n')\n",
        "    remaining_list += str_list\n",
        "    row_count = len(remaining_list)\n",
        "    if row_count < input_size:\n",
        "      continue\n",
        "    nearest_input_size_multiple = (row_count // input_size) * input_size\n",
        "    print('nearest: {}'.format(nearest_input_size_multiple))\n",
        "    working_list = remaining_list[:nearest_input_size_multiple]\n",
        "    remaining_list = remaining_list[nearest_input_size_multiple:]\n",
        "    #print('working: {}'.format(working_list))\n",
        "    #print('remaining: {}'.format(remaining_list))\n",
        "    \n",
        "    print('start list to str')\n",
        "    write_str = list_to_str(working_list, input_size, False)\n",
        "    start_t = time.time()\n",
        "    print('start writing...')\n",
        "    writer.write(write_str)\n",
        "    writer.flush()\n",
        "    end_t = time.time()\n",
        "    print('time to write {}s'.format(end_t - start_t))\n",
        "  \n",
        "  print('start list to str')\n",
        "  write_str = list_to_str(working_list, input_size, False)\n",
        "  #print('final: ' + write_str)\n",
        "  start_t = time.time()\n",
        "  print('start writing...')\n",
        "  writer.write(write_str)\n",
        "  writer.flush()\n",
        "  writer.close()\n",
        "  end_t = time.time()\n",
        "  print('time to write {}s'.format(end_t - start_t))\n"
      ],
      "execution_count": 0,
      "outputs": []
    },
    {
      "metadata": {
        "id": "G51OsFISDxvi",
        "colab_type": "code",
        "colab": {}
      },
      "cell_type": "code",
      "source": [
        "# test_reader = tf.gfile.GFile(DATA_DIR + '/test/seg_00030f.csv', \"r\")\n",
        "# reader.readline()\n",
        "# s = test_reader.read(4096)\n",
        "# file_size = test_reader.size()\n",
        "# while test_reader.tell() < file_size:\n",
        "#   print('pos: {}'.format(test_reader.tell()))\n",
        "#   test_reader.read(1024)\n",
        "# curr_pos = test_reader.tell()\n",
        "# print('curr pos: {}'.format(curr_pos))\n",
        "# test_reader.read(1)\n",
        "# after_pos = test_reader.tell()\n",
        "# print('after read one pos: {}'.format(after_pos))\n",
        "# print('is same: {}'.format(curr_pos == after_pos))"
      ],
      "execution_count": 0,
      "outputs": []
    },
    {
      "metadata": {
        "id": "c-KE6d-0nvc1",
        "colab_type": "code",
        "outputId": "0a8fc484-c5e1-4313-ba64-174b0289c31b",
        "colab": {
          "base_uri": "https://localhost:8080/",
          "height": 2579
        }
      },
      "cell_type": "code",
      "source": [
        "read_chunk_size = 400 * 1024 * 1024 # 400MB\n",
        "input_size = 128\n",
        "reader = tf.gfile.GFile(DATA_DIR + '/train.csv', \"r\")\n",
        "writer = tf.gfile.GFile(DATA_DIR + '/quakes_{}_real'.format(input_size), \"w\")\n",
        "read_convert_raw_train_csv(reader, input_size, read_chunk_size, writer)\n"
      ],
      "execution_count": 0,
      "outputs": [
        {
          "output_type": "stream",
          "text": [
            "reader pos:30\n",
            "time to read 4.57399845123291s\n",
            "nearest: 27557376\n",
            "start list to str\n",
            "start writing...\n",
            "time to write 7.063354730606079s\n",
            "reader pos:419430443\n",
            "time to read 3.6945645809173584s\n",
            "nearest: 27485952\n",
            "start list to str\n",
            "start writing...\n",
            "time to write 12.92895793914795s\n",
            "reader pos:838860848\n",
            "time to read 4.1693971157073975s\n",
            "nearest: 27832320\n",
            "start list to str\n",
            "start writing...\n",
            "time to write 18.379984140396118s\n",
            "reader pos:1258291256\n",
            "time to read 3.5380914211273193s\n",
            "nearest: 27467008\n",
            "start list to str\n",
            "start writing...\n",
            "time to write 22.825926303863525s\n",
            "reader pos:1677721665\n",
            "time to read 3.1316773891448975s\n",
            "nearest: 27571968\n",
            "start list to str\n",
            "start writing...\n",
            "time to write 24.434353590011597s\n",
            "reader pos:2097152069\n",
            "time to read 3.1148083209991455s\n",
            "nearest: 27785472\n",
            "start list to str\n",
            "start writing...\n",
            "time to write 26.771021366119385s\n",
            "reader pos:2516582481\n",
            "time to read 4.010611295700073s\n",
            "nearest: 27458176\n",
            "start list to str\n",
            "start writing...\n",
            "time to write 33.00866436958313s\n",
            "reader pos:2936012892\n",
            "time to read 4.126262664794922s\n",
            "nearest: 27774464\n",
            "start list to str\n",
            "start writing...\n",
            "time to write 47.73197078704834s\n",
            "reader pos:3355443306\n",
            "time to read 3.182677984237671s\n",
            "nearest: 27532928\n",
            "start list to str\n",
            "start writing...\n",
            "time to write 45.38257193565369s\n",
            "reader pos:3774873715\n",
            "time to read 3.2731218338012695s\n",
            "nearest: 27856384\n",
            "start list to str\n",
            "start writing...\n",
            "time to write 41.12072992324829s\n",
            "reader pos:4194304117\n",
            "time to read 4.022328853607178s\n",
            "nearest: 27737344\n",
            "start list to str\n",
            "start writing...\n",
            "time to write 59.37694573402405s\n",
            "reader pos:4613734529\n",
            "time to read 3.439727544784546s\n",
            "nearest: 27561728\n",
            "start list to str\n",
            "start writing...\n",
            "time to write 76.42070078849792s\n",
            "reader pos:5033164941\n",
            "time to read 3.2071311473846436s\n",
            "nearest: 27549824\n",
            "start list to str\n",
            "start writing...\n",
            "time to write 72.86106610298157s\n",
            "reader pos:5452595349\n",
            "time to read 4.620765447616577s\n",
            "nearest: 27512064\n",
            "start list to str\n",
            "start writing...\n",
            "time to write 116.44601011276245s\n",
            "reader pos:5872025751\n",
            "time to read 3.8939452171325684s\n",
            "nearest: 27785344\n",
            "start list to str\n",
            "start writing...\n",
            "time to write 100.26691126823425s\n",
            "reader pos:6291456161\n",
            "time to read 4.4947285652160645s\n",
            "nearest: 27546368\n",
            "start list to str\n",
            "start writing...\n",
            "time to write 123.6482150554657s\n",
            "reader pos:6710886563\n",
            "time to read 3.7108445167541504s\n",
            "nearest: 27482624\n",
            "start list to str\n",
            "start writing...\n",
            "time to write 132.83056235313416s\n",
            "reader pos:7130316969\n",
            "time to read 4.875609874725342s\n",
            "nearest: 27493888\n",
            "start list to str\n",
            "start writing...\n",
            "time to write 148.38855147361755s\n",
            "reader pos:7549747381\n",
            "time to read 4.644208192825317s\n",
            "nearest: 27858304\n",
            "start list to str\n",
            "start writing...\n",
            "time to write 180.75610828399658s\n",
            "reader pos:7969177785\n",
            "time to read 3.5790534019470215s\n",
            "nearest: 27559424\n",
            "start list to str\n",
            "start writing...\n",
            "time to write 212.69001364707947s\n",
            "reader pos:8388608198\n",
            "time to read 3.934091329574585s\n",
            "nearest: 27720704\n",
            "start list to str\n",
            "start writing...\n",
            "time to write 236.0166049003601s\n",
            "reader pos:8808038606\n",
            "time to read 4.093699216842651s\n",
            "nearest: 27552768\n",
            "start list to str\n",
            "start writing...\n",
            "time to write 242.8762788772583s\n",
            "reader pos:9227469008\n",
            "time to read 3.0904366970062256s\n",
            "nearest: 21463040\n",
            "start list to str\n",
            "start writing...\n",
            "time to write 248.22439765930176s\n",
            "start list to str\n",
            "start writing...\n",
            "time to write 279.04290771484375s\n"
          ],
          "name": "stdout"
        }
      ]
    }
  ]
}